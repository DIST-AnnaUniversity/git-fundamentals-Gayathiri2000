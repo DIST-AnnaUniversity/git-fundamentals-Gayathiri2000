{
 "cells": [
  {
   "cell_type": "code",
   "execution_count": 1,
   "id": "6e451dba",
   "metadata": {},
   "outputs": [
    {
     "name": "stdout",
     "output_type": "stream",
     "text": [
      "Requirement already satisfied: numpy in d:\\software\\lib\\site-packages (1.21.5)\n",
      "Note: you may need to restart the kernel to use updated packages.\n"
     ]
    }
   ],
   "source": [
    "pip install numpy"
   ]
  },
  {
   "cell_type": "code",
   "execution_count": 2,
   "id": "92ff06f8",
   "metadata": {},
   "outputs": [
    {
     "name": "stdout",
     "output_type": "stream",
     "text": [
      "Matrix Multiplication is : [[ 3  6 11]\n",
      " [ 7 10 10]\n",
      " [ 6 13  8]]\n"
     ]
    }
   ],
   "source": [
    "#Matrix Addition\n",
    "import numpy as np\n",
    "a=np.array([[1,2,3],[4,7,3],[2,6,3]])\n",
    "b=np.array([[2,4,8],[3,3,7],[4,7,5]])\n",
    "mat_sum=a+b\n",
    "print (\"Matrix Multiplication is :\",mat_sum)"
   ]
  },
  {
   "cell_type": "code",
   "execution_count": 3,
   "id": "fe277051",
   "metadata": {},
   "outputs": [
    {
     "name": "stdout",
     "output_type": "stream",
     "text": [
      "Matrix Subtraction is : [[-1 -2 -5]\n",
      " [ 1  4 -4]\n",
      " [-2 -1 -2]]\n"
     ]
    }
   ],
   "source": [
    "#Matrix Subtraction\n",
    "import numpy as np\n",
    "a=np.array([[1,2,3],[4,7,3],[2,6,3]])\n",
    "b=np.array([[2,4,8],[3,3,7],[4,7,5]])\n",
    "mat_sub=a-b\n",
    "print (\"Matrix Subtraction is :\",mat_sub)"
   ]
  },
  {
   "cell_type": "code",
   "execution_count": 4,
   "id": "c2e24537",
   "metadata": {},
   "outputs": [
    {
     "name": "stdout",
     "output_type": "stream",
     "text": [
      "Matrix Multiplication is : [[ 2  8 24]\n",
      " [12 21 21]\n",
      " [ 8 42 15]]\n"
     ]
    }
   ],
   "source": [
    "#Matrix Multiply\n",
    "import numpy as np\n",
    "a=np.array([[1,2,3],[4,7,3],[2,6,3]])\n",
    "b=np.array([[2,4,8],[3,3,7],[4,7,5]])\n",
    "mat_mul=a*b\n",
    "print (\"Matrix Multiplication is :\",mat_mul)"
   ]
  },
  {
   "cell_type": "code",
   "execution_count": null,
   "id": "7e0f67dd",
   "metadata": {},
   "outputs": [],
   "source": []
  }
 ],
 "metadata": {
  "kernelspec": {
   "display_name": "Python 3 (ipykernel)",
   "language": "python",
   "name": "python3"
  },
  "language_info": {
   "codemirror_mode": {
    "name": "ipython",
    "version": 3
   },
   "file_extension": ".py",
   "mimetype": "text/x-python",
   "name": "python",
   "nbconvert_exporter": "python",
   "pygments_lexer": "ipython3",
   "version": "3.9.12"
  }
 },
 "nbformat": 4,
 "nbformat_minor": 5
}
